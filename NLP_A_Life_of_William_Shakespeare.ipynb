{
  "nbformat": 4,
  "nbformat_minor": 0,
  "metadata": {
    "colab": {
      "provenance": []
    },
    "kernelspec": {
      "name": "python3",
      "display_name": "Python 3"
    },
    "language_info": {
      "name": "python"
    },
    "accelerator": "TPU"
  },
  "cells": [
    {
      "cell_type": "code",
      "execution_count": null,
      "metadata": {
        "id": "MzAt-j1g6X_Z"
      },
      "outputs": [],
      "source": []
    },
    {
      "cell_type": "markdown",
      "source": [
        "A Life of William Shakespeare\n",
        "Chronology of the plays.  Metrical tests."
      ],
      "metadata": {
        "id": "7cY7Igkz6Yc9"
      }
    },
    {
      "cell_type": "markdown",
      "source": [],
      "metadata": {
        "id": "nrY5cNXrQyAk"
      }
    },
    {
      "cell_type": "markdown",
      "source": [
        "\n",
        "Collecting the data"
      ],
      "metadata": {
        "id": "iQR_DVk0CrkX"
      }
    },
    {
      "cell_type": "code",
      "source": [
        "# This is the URL I will load: https://www.gutenberg.org/cache/epub/23464/pg23464.txt\n",
        "import requests"
      ],
      "metadata": {
        "id": "v3JxfBGS6j5v"
      },
      "execution_count": 1,
      "outputs": []
    },
    {
      "cell_type": "code",
      "source": [
        "result = requests.get('https://www.gutenberg.org/cache/epub/23464/pg23464.txt')\n",
        "text = result.text"
      ],
      "metadata": {
        "id": "zgNw3Qy37o0s"
      },
      "execution_count": 2,
      "outputs": []
    },
    {
      "cell_type": "code",
      "source": [
        "print(text)"
      ],
      "metadata": {
        "id": "BXdpN38J8PJK"
      },
      "execution_count": null,
      "outputs": []
    },
    {
      "cell_type": "code",
      "source": [
        "pip install notebook"
      ],
      "metadata": {
        "id": "jDSLGPRXoxxB",
        "outputId": "d1db3b7f-332d-47e5-a9d4-a839ee0e6034",
        "colab": {
          "base_uri": "https://localhost:8080/"
        }
      },
      "execution_count": 14,
      "outputs": [
        {
          "output_type": "stream",
          "name": "stdout",
          "text": [
            "Requirement already satisfied: notebook in /usr/local/lib/python3.10/dist-packages (6.5.5)\n",
            "Requirement already satisfied: jinja2 in /usr/local/lib/python3.10/dist-packages (from notebook) (3.1.3)\n",
            "Requirement already satisfied: tornado>=6.1 in /usr/local/lib/python3.10/dist-packages (from notebook) (6.3.2)\n",
            "Requirement already satisfied: pyzmq<25,>=17 in /usr/local/lib/python3.10/dist-packages (from notebook) (23.2.1)\n",
            "Requirement already satisfied: argon2-cffi in /usr/local/lib/python3.10/dist-packages (from notebook) (23.1.0)\n",
            "Requirement already satisfied: traitlets>=4.2.1 in /usr/local/lib/python3.10/dist-packages (from notebook) (5.7.1)\n",
            "Requirement already satisfied: jupyter-core>=4.6.1 in /usr/local/lib/python3.10/dist-packages (from notebook) (5.7.1)\n",
            "Requirement already satisfied: jupyter-client<8,>=5.3.4 in /usr/local/lib/python3.10/dist-packages (from notebook) (6.1.12)\n",
            "Requirement already satisfied: ipython-genutils in /usr/local/lib/python3.10/dist-packages (from notebook) (0.2.0)\n",
            "Requirement already satisfied: nbformat in /usr/local/lib/python3.10/dist-packages (from notebook) (5.9.2)\n",
            "Requirement already satisfied: nbconvert>=5 in /usr/local/lib/python3.10/dist-packages (from notebook) (6.5.4)\n",
            "Requirement already satisfied: nest-asyncio>=1.5 in /usr/local/lib/python3.10/dist-packages (from notebook) (1.6.0)\n",
            "Requirement already satisfied: ipykernel in /usr/local/lib/python3.10/dist-packages (from notebook) (5.5.6)\n",
            "Requirement already satisfied: Send2Trash>=1.8.0 in /usr/local/lib/python3.10/dist-packages (from notebook) (1.8.2)\n",
            "Requirement already satisfied: terminado>=0.8.3 in /usr/local/lib/python3.10/dist-packages (from notebook) (0.18.0)\n",
            "Requirement already satisfied: prometheus-client in /usr/local/lib/python3.10/dist-packages (from notebook) (0.19.0)\n",
            "Requirement already satisfied: nbclassic>=0.4.7 in /usr/local/lib/python3.10/dist-packages (from notebook) (1.0.0)\n",
            "Requirement already satisfied: python-dateutil>=2.1 in /usr/local/lib/python3.10/dist-packages (from jupyter-client<8,>=5.3.4->notebook) (2.8.2)\n",
            "Requirement already satisfied: platformdirs>=2.5 in /usr/local/lib/python3.10/dist-packages (from jupyter-core>=4.6.1->notebook) (4.1.0)\n",
            "Requirement already satisfied: jupyter-server>=1.8 in /usr/local/lib/python3.10/dist-packages (from nbclassic>=0.4.7->notebook) (1.24.0)\n",
            "Requirement already satisfied: notebook-shim>=0.2.3 in /usr/local/lib/python3.10/dist-packages (from nbclassic>=0.4.7->notebook) (0.2.3)\n",
            "Requirement already satisfied: lxml in /usr/local/lib/python3.10/dist-packages (from nbconvert>=5->notebook) (4.9.4)\n",
            "Requirement already satisfied: beautifulsoup4 in /usr/local/lib/python3.10/dist-packages (from nbconvert>=5->notebook) (4.11.2)\n",
            "Requirement already satisfied: bleach in /usr/local/lib/python3.10/dist-packages (from nbconvert>=5->notebook) (6.1.0)\n",
            "Requirement already satisfied: defusedxml in /usr/local/lib/python3.10/dist-packages (from nbconvert>=5->notebook) (0.7.1)\n",
            "Requirement already satisfied: entrypoints>=0.2.2 in /usr/local/lib/python3.10/dist-packages (from nbconvert>=5->notebook) (0.4)\n",
            "Requirement already satisfied: jupyterlab-pygments in /usr/local/lib/python3.10/dist-packages (from nbconvert>=5->notebook) (0.3.0)\n",
            "Requirement already satisfied: MarkupSafe>=2.0 in /usr/local/lib/python3.10/dist-packages (from nbconvert>=5->notebook) (2.1.4)\n",
            "Requirement already satisfied: mistune<2,>=0.8.1 in /usr/local/lib/python3.10/dist-packages (from nbconvert>=5->notebook) (0.8.4)\n",
            "Requirement already satisfied: nbclient>=0.5.0 in /usr/local/lib/python3.10/dist-packages (from nbconvert>=5->notebook) (0.9.0)\n",
            "Requirement already satisfied: packaging in /usr/local/lib/python3.10/dist-packages (from nbconvert>=5->notebook) (23.2)\n",
            "Requirement already satisfied: pandocfilters>=1.4.1 in /usr/local/lib/python3.10/dist-packages (from nbconvert>=5->notebook) (1.5.1)\n",
            "Requirement already satisfied: pygments>=2.4.1 in /usr/local/lib/python3.10/dist-packages (from nbconvert>=5->notebook) (2.16.1)\n",
            "Requirement already satisfied: tinycss2 in /usr/local/lib/python3.10/dist-packages (from nbconvert>=5->notebook) (1.2.1)\n",
            "Requirement already satisfied: fastjsonschema in /usr/local/lib/python3.10/dist-packages (from nbformat->notebook) (2.19.1)\n",
            "Requirement already satisfied: jsonschema>=2.6 in /usr/local/lib/python3.10/dist-packages (from nbformat->notebook) (4.19.2)\n",
            "Requirement already satisfied: ptyprocess in /usr/local/lib/python3.10/dist-packages (from terminado>=0.8.3->notebook) (0.7.0)\n",
            "Requirement already satisfied: argon2-cffi-bindings in /usr/local/lib/python3.10/dist-packages (from argon2-cffi->notebook) (21.2.0)\n",
            "Requirement already satisfied: ipython>=5.0.0 in /usr/local/lib/python3.10/dist-packages (from ipykernel->notebook) (7.34.0)\n",
            "Requirement already satisfied: setuptools>=18.5 in /usr/local/lib/python3.10/dist-packages (from ipython>=5.0.0->ipykernel->notebook) (67.7.2)\n",
            "Requirement already satisfied: jedi>=0.16 in /usr/local/lib/python3.10/dist-packages (from ipython>=5.0.0->ipykernel->notebook) (0.19.1)\n",
            "Requirement already satisfied: decorator in /usr/local/lib/python3.10/dist-packages (from ipython>=5.0.0->ipykernel->notebook) (4.4.2)\n",
            "Requirement already satisfied: pickleshare in /usr/local/lib/python3.10/dist-packages (from ipython>=5.0.0->ipykernel->notebook) (0.7.5)\n",
            "Requirement already satisfied: prompt-toolkit!=3.0.0,!=3.0.1,<3.1.0,>=2.0.0 in /usr/local/lib/python3.10/dist-packages (from ipython>=5.0.0->ipykernel->notebook) (3.0.43)\n",
            "Requirement already satisfied: backcall in /usr/local/lib/python3.10/dist-packages (from ipython>=5.0.0->ipykernel->notebook) (0.2.0)\n",
            "Requirement already satisfied: matplotlib-inline in /usr/local/lib/python3.10/dist-packages (from ipython>=5.0.0->ipykernel->notebook) (0.1.6)\n",
            "Requirement already satisfied: pexpect>4.3 in /usr/local/lib/python3.10/dist-packages (from ipython>=5.0.0->ipykernel->notebook) (4.9.0)\n",
            "Requirement already satisfied: attrs>=22.2.0 in /usr/local/lib/python3.10/dist-packages (from jsonschema>=2.6->nbformat->notebook) (23.2.0)\n",
            "Requirement already satisfied: jsonschema-specifications>=2023.03.6 in /usr/local/lib/python3.10/dist-packages (from jsonschema>=2.6->nbformat->notebook) (2023.12.1)\n",
            "Requirement already satisfied: referencing>=0.28.4 in /usr/local/lib/python3.10/dist-packages (from jsonschema>=2.6->nbformat->notebook) (0.32.1)\n",
            "Requirement already satisfied: rpds-py>=0.7.1 in /usr/local/lib/python3.10/dist-packages (from jsonschema>=2.6->nbformat->notebook) (0.17.1)\n",
            "Requirement already satisfied: anyio<4,>=3.1.0 in /usr/local/lib/python3.10/dist-packages (from jupyter-server>=1.8->nbclassic>=0.4.7->notebook) (3.7.1)\n",
            "Requirement already satisfied: websocket-client in /usr/local/lib/python3.10/dist-packages (from jupyter-server>=1.8->nbclassic>=0.4.7->notebook) (1.7.0)\n",
            "Requirement already satisfied: six>=1.5 in /usr/local/lib/python3.10/dist-packages (from python-dateutil>=2.1->jupyter-client<8,>=5.3.4->notebook) (1.16.0)\n",
            "Requirement already satisfied: cffi>=1.0.1 in /usr/local/lib/python3.10/dist-packages (from argon2-cffi-bindings->argon2-cffi->notebook) (1.16.0)\n",
            "Requirement already satisfied: soupsieve>1.2 in /usr/local/lib/python3.10/dist-packages (from beautifulsoup4->nbconvert>=5->notebook) (2.5)\n",
            "Requirement already satisfied: webencodings in /usr/local/lib/python3.10/dist-packages (from bleach->nbconvert>=5->notebook) (0.5.1)\n",
            "Requirement already satisfied: idna>=2.8 in /usr/local/lib/python3.10/dist-packages (from anyio<4,>=3.1.0->jupyter-server>=1.8->nbclassic>=0.4.7->notebook) (3.6)\n",
            "Requirement already satisfied: sniffio>=1.1 in /usr/local/lib/python3.10/dist-packages (from anyio<4,>=3.1.0->jupyter-server>=1.8->nbclassic>=0.4.7->notebook) (1.3.0)\n",
            "Requirement already satisfied: exceptiongroup in /usr/local/lib/python3.10/dist-packages (from anyio<4,>=3.1.0->jupyter-server>=1.8->nbclassic>=0.4.7->notebook) (1.2.0)\n",
            "Requirement already satisfied: pycparser in /usr/local/lib/python3.10/dist-packages (from cffi>=1.0.1->argon2-cffi-bindings->argon2-cffi->notebook) (2.21)\n",
            "Requirement already satisfied: parso<0.9.0,>=0.8.3 in /usr/local/lib/python3.10/dist-packages (from jedi>=0.16->ipython>=5.0.0->ipykernel->notebook) (0.8.3)\n",
            "Requirement already satisfied: wcwidth in /usr/local/lib/python3.10/dist-packages (from prompt-toolkit!=3.0.0,!=3.0.1,<3.1.0,>=2.0.0->ipython>=5.0.0->ipykernel->notebook) (0.2.13)\n"
          ]
        }
      ]
    },
    {
      "cell_type": "code",
      "source": [
        "!pip install anaconda"
      ],
      "metadata": {
        "id": "oTxNbFsWp3Db",
        "outputId": "8f954d2b-2e88-4816-b468-4c04ee2b4bc6",
        "colab": {
          "base_uri": "https://localhost:8080/"
        }
      },
      "execution_count": 17,
      "outputs": [
        {
          "output_type": "stream",
          "name": "stdout",
          "text": [
            "Collecting anaconda\n",
            "  Downloading anaconda-0.0.1.1.tar.gz (726 bytes)\n",
            "  Preparing metadata (setup.py) ... \u001b[?25l\u001b[?25hdone\n",
            "Building wheels for collected packages: anaconda\n",
            "  Building wheel for anaconda (setup.py) ... \u001b[?25l\u001b[?25hdone\n",
            "  Created wheel for anaconda: filename=anaconda-0.0.1.1-py3-none-any.whl size=1095 sha256=af511bf080fe001066a7a8dde1729e293e9cce25221ff3d93ca4f9ae6925499f\n",
            "  Stored in directory: /root/.cache/pip/wheels/f4/0e/c2/43856d772ce2bfb88c8941fffeacf376a0fe9cb426543c5708\n",
            "Successfully built anaconda\n",
            "Installing collected packages: anaconda\n",
            "Successfully installed anaconda-0.0.1.1\n"
          ]
        }
      ]
    },
    {
      "cell_type": "code",
      "source": [
        "import sys\n",
        "!{sys.executable} -m pip install  invisible-watermark\n",
        "!conda install -y --quiet -c conda-forge \\\n",
        "    accelerate==0.23.0 \\\n",
        "    validators==0.22.0 \\\n",
        "    diffusers==0.18.2 \\\n",
        "    transformers==4.32.1 \\\n",
        "    tensorboardX \\\n",
        "    pillow \\\n",
        "    ipywidgets \\\n",
        "    ipython \\\n",
        "    sentencepiece"
      ],
      "metadata": {
        "id": "TcRJh1VLpOJG"
      },
      "execution_count": null,
      "outputs": []
    },
    {
      "cell_type": "code",
      "source": [
        "!python -m pip install torch==2.0.1a0 torchvision==0.15.2a0 intel_extension_for_pytorch==2.0.110+xpu -f https://developer.intel.com/ipex-whl-stable-xpu"
      ],
      "metadata": {
        "id": "wiRhMlHFpi5Q"
      },
      "execution_count": null,
      "outputs": []
    },
    {
      "cell_type": "code",
      "source": [
        "word_list = text.split(\" \")\n",
        "len(word_list)"
      ],
      "metadata": {
        "colab": {
          "base_uri": "https://localhost:8080/"
        },
        "id": "AFlfaPZI8n2P",
        "outputId": "1a4bd74f-e854-4238-9b0d-032f9cdaf668"
      },
      "execution_count": 8,
      "outputs": [
        {
          "output_type": "execute_result",
          "data": {
            "text/plain": [
              "174006"
            ]
          },
          "metadata": {},
          "execution_count": 8
        }
      ]
    },
    {
      "cell_type": "markdown",
      "source": [
        "\n",
        "Exploratory Data Analysis"
      ],
      "metadata": {
        "id": "ZeUec7Y16qwI"
      }
    },
    {
      "cell_type": "code",
      "source": [
        "# Collecting the text file containing the list of Irish Poems.\n",
        "!wget 'https://www.gutenberg.org/cache/epub/23464/pg23464.txt'"
      ],
      "metadata": {
        "colab": {
          "base_uri": "https://localhost:8080/"
        },
        "id": "NiOMz_w8EQfI",
        "outputId": "67cc3969-db5b-48d2-8c1e-458087bcffa8"
      },
      "execution_count": 21,
      "outputs": [
        {
          "output_type": "stream",
          "name": "stdout",
          "text": [
            "--2024-01-26 21:49:19--  https://www.gutenberg.org/cache/epub/23464/pg23464.txt\n",
            "Resolving www.gutenberg.org (www.gutenberg.org)... 152.19.134.47, 2610:28:3090:3000:0:bad:cafe:47\n",
            "Connecting to www.gutenberg.org (www.gutenberg.org)|152.19.134.47|:443... connected.\n",
            "HTTP request sent, awaiting response... 200 OK\n",
            "Length: 976938 (954K) [text/plain]\n",
            "Saving to: ‘pg23464.txt’\n",
            "\n",
            "pg23464.txt         100%[===================>] 954.04K  5.22MB/s    in 0.2s    \n",
            "\n",
            "2024-01-26 21:49:20 (5.22 MB/s) - ‘pg23464.txt’ saved [976938/976938]\n",
            "\n"
          ]
        }
      ]
    },
    {
      "cell_type": "code",
      "source": [
        "pip install tokenizer"
      ],
      "metadata": {
        "colab": {
          "base_uri": "https://localhost:8080/"
        },
        "id": "n3G793kDEsgG",
        "outputId": "a6fdd58c-2d77-4fdc-9322-ed91ad9d5ffb"
      },
      "execution_count": 22,
      "outputs": [
        {
          "output_type": "stream",
          "name": "stdout",
          "text": [
            "Collecting tokenizer\n",
            "  Downloading tokenizer-3.4.3-py2.py3-none-any.whl (112 kB)\n",
            "\u001b[2K     \u001b[90m━━━━━━━━━━━━━━━━━━━━━━━━━━━━━━━━━━━━━━━━\u001b[0m \u001b[32m112.3/112.3 kB\u001b[0m \u001b[31m1.3 MB/s\u001b[0m eta \u001b[36m0:00:00\u001b[0m\n",
            "\u001b[?25hInstalling collected packages: tokenizer\n",
            "Successfully installed tokenizer-3.4.3\n"
          ]
        }
      ]
    },
    {
      "cell_type": "code",
      "execution_count": 23,
      "metadata": {
        "id": "Qm354482bo77"
      },
      "outputs": [],
      "source": [
        "# Importing the required libraries.\n",
        "import tensorflow as tf\n",
        "import numpy as np\n",
        "import matplotlib.pyplot as plt\n",
        "from tensorflow.keras.preprocessing.text import Tokenizer\n",
        "from tensorflow.keras.preprocessing.sequence import pad_sequences"
      ]
    },
    {
      "cell_type": "code",
      "source": [
        "# Counting the number of lines in our dataset.\n",
        "with open('pg23464.txt') as file:\n",
        "    data = file.read().split('\\n')[:-1]\n",
        "    lines = len(data)\n",
        "print('Number of poem lines in our dataset:', lines)\n",
        "\n",
        "# Counting the number of unique words in our dataset.\n",
        "tokenizer = Tokenizer()\n",
        "tokenizer.fit_on_texts(data)\n",
        "words = len(tokenizer.word_index)\n",
        "print('Number of unique words in our dataset:', words)\n",
        "print()\n",
        "\n",
        "# Finding the minumum and maximum number of words in a sentence.\n",
        "data_tokenized = tokenizer.texts_to_sequences(data)\n",
        "lines_length = [len(sentence) for sentence in data_tokenized if len(sentence)>1]\n",
        "print('Minimum length of a sentence', min(lines_length))\n",
        "print('Maximum length of a sentence', max(lines_length))\n",
        "print()\n",
        "\n",
        "# Plotting a graph representing the words in different sentences.\n",
        "plt.title('Length of sentences')\n",
        "plt.hist(lines_length, bins=np.arange(5,13)-0.5)\n",
        "plt.xlim([4, 12])\n",
        "plt.show()"
      ],
      "metadata": {
        "colab": {
          "base_uri": "https://localhost:8080/",
          "height": 559
        },
        "id": "7bup1luDC5pY",
        "outputId": "4b91e322-d24b-4122-e53e-042f4c9a9b8a"
      },
      "execution_count": 24,
      "outputs": [
        {
          "output_type": "stream",
          "name": "stdout",
          "text": [
            "Number of poem lines in our dataset: 19500\n",
            "Number of unique words in our dataset: 15937\n",
            "\n",
            "Minimum length of a sentence 2\n",
            "Maximum length of a sentence 20\n",
            "\n"
          ]
        },
        {
          "output_type": "display_data",
          "data": {
            "text/plain": [
              "<Figure size 640x480 with 1 Axes>"
            ],
            "image/png": "[encoded data removed]"
          },
          "metadata": {}
        }
      ]
    },
    {
      "cell_type": "markdown",
      "source": [
        "Preparing the Data\n",
        "Steps:\n",
        "\n",
        "Tokenizing the data, using a word tokenizer\n",
        "Create n-gram sequences\n",
        "Pre-padding the sentences to make them of equal lengths\n",
        "Spliting the last word from each sentence to form label\n",
        "Consider this example:\n",
        "\n",
        "Sentence : 'Come all ye maidens young and fair'\n",
        "Step-1 :\n",
        "[51, 12, 96, 1217, 48, 2, 69]\n",
        "\n",
        "Step-2 :\n",
        "[51, 12] [51, 12, 96] [51, 12, 96, 1217] [51, 12, 96, 1217, 48] [51, 12, 96, 1217, 48, 2] [51, 12, 96, 1217, 48, 2, 69]\n",
        "\n",
        "Step-3 :\n",
        "[ 0, 0, 0, 0, 0, 0, 0, 0, 0, 0, 0, 0, 0, 0, 51, 12] [ 0, 0, 0, 0, 0, 0, 0, 0, 0, 0, 0, 0, 0, 51, 12, 96] [ 0, 0, 0, 0, 0, 0, 0, 0, 0, 0, 0, 0, 51, 12, 96, 1217] [ 0, 0, 0, 0, 0, 0, 0, 0, 0, 0, 0, 51, 12, 96, 1217, 48] [ 0, 0, 0, 0, 0, 0, 0, 0, 0, 0, 51, 12, 96, 1217, 48, 2] [ 0, 0, 0, 0, 0, 0, 0, 0, 0, 51, 12, 96, 1217, 48, 2, 69]\n",
        "\n",
        "Step-4 :\n",
        "Final training sequences and labels: [ 0, 0, 0, 0, 0, 0, 0, 0, 0, 0, 0, 0, 0, 0, 51]                [12] [ 0, 0, 0, 0, 0, 0, 0, 0, 0, 0, 0, 0, 0, 51, 12]              [96] [ 0, 0, 0, 0, 0, 0, 0, 0, 0, 0, 0, 0, 51, 12, 96]            [1217] [ 0, 0, 0, 0, 0, 0, 0, 0, 0, 0, 0, 51, 12, 96, 1217]     [48] [ 0, 0, 0, 0, 0, 0, 0, 0, 0, 0, 51, 12, 96, 1217, 48]   [2] [ 0, 0, 0, 0, 0, 0, 0, 0, 0, 51, 12, 96, 1217, 48, 2]   [69]"
      ],
      "metadata": {
        "id": "0WlETun3FyZl"
      }
    },
    {
      "cell_type": "code",
      "source": [
        "# Opening the text file containing the Shakespeare Sonnets.\n",
        "with open('pg23464.txt') as file:\n",
        "    data = file.read().split('\\n')[:-1]\n",
        "data = [sentence for sentence in data if len(sentence.split())>1]\n",
        "\n",
        "# Tokenizing the data, using word tokenizer.\n",
        "tokenizer = Tokenizer()\n",
        "tokenizer.fit_on_texts(data)\n",
        "data_tokenized = tokenizer.texts_to_sequences(data)\n",
        "\n",
        "# Creating the n-gram sequences.\n",
        "training_sequences = []\n",
        "for sequence in data_tokenized:\n",
        "    for i in range(2,len(sequence)+1):\n",
        "        training_sequences.append(sequence[:i])\n",
        "\n",
        "# Pre-padding the data with zeros.\n",
        "data_padded = pad_sequences(training_sequences)\n",
        "\n",
        "# Preparing the training data.\n",
        "x_train, y_train = data_padded[:,:-1], data_padded[:,-1]"
      ],
      "metadata": {
        "id": "BnOlkFwGF0nL"
      },
      "execution_count": 25,
      "outputs": []
    },
    {
      "cell_type": "markdown",
      "source": [
        "\n",
        "Training the model\n",
        "We are using a Sequential model with the following layers:\n",
        "\n",
        "Embedding\n",
        "Bidirectional LSTM\n",
        "Dropout\n",
        "LSTM\n",
        "Dense\n",
        "Dense\n",
        "We are also using the following parameters:\n",
        "\n",
        "vocab_size = len(tokenizer.word_index) + 1\n",
        "wv_dims = 100\n",
        "input_length = x_train.shape[1]\n",
        "dropout_rate = 0.2\n",
        "lstm_units = 128\n",
        "regularization_rate = 0.01\n",
        "epochs = 60"
      ],
      "metadata": {
        "id": "xRJZbqIwGeMm"
      }
    },
    {
      "cell_type": "code",
      "source": [
        "# Setting the parameters for our model.\n",
        "vocab_size = len(tokenizer.word_index) + 1\n",
        "wv_dims = 100\n",
        "input_length = x_train.shape[1]\n",
        "dropout_rate = 0.2\n",
        "lstm_units = 128\n",
        "regularization_rate = 0.01\n",
        "epochs = 60"
      ],
      "metadata": {
        "id": "ATjxQkq5Gf6X"
      },
      "execution_count": 26,
      "outputs": []
    },
    {
      "cell_type": "code",
      "source": [
        "# Building a sequential model with Bidirectional LSTM and LSTM layers.\n",
        "model = tf.keras.Sequential()\n",
        "model.add(tf.keras.layers.Embedding(vocab_size, wv_dims, input_length=input_length))\n",
        "model.add(tf.keras.layers.Bidirectional(tf.keras.layers.LSTM(lstm_units, return_sequences=True)))\n",
        "model.add(tf.keras.layers.Dropout(dropout_rate))\n",
        "model.add(tf.keras.layers.LSTM(lstm_units))\n",
        "model.add(tf.keras.layers.Dense(vocab_size//4, activation='relu',\n",
        "                                activity_regularizer=tf.keras.regularizers.l2(regularization_rate)))\n",
        "model.add(tf.keras.layers.Dense(vocab_size, activation='softmax'))\n",
        "\n",
        "# Printing the summary of our model.\n",
        "model.summary()\n",
        "\n",
        "# Compiling our model.\n",
        "model.compile(optimizer='adam', loss='sparse_categorical_crossentropy', metrics=['accuracy'])\n",
        "\n",
        "# Finally, training the model.\n",
        "history = model.fit(x_train, y_train, epochs=epochs)"
      ],
      "metadata": {
        "colab": {
          "base_uri": "https://localhost:8080/"
        },
        "id": "73s99qd3G7ME",
        "outputId": "beebe7f1-ddf5-4c94-db0e-9241c5665547"
      },
      "execution_count": null,
      "outputs": [
        {
          "output_type": "stream",
          "name": "stdout",
          "text": [
            "Model: \"sequential\"\n",
            "_________________________________________________________________\n",
            " Layer (type)                Output Shape              Param #   \n",
            "=================================================================\n",
            " embedding (Embedding)       (None, 19, 100)           1592400   \n",
            "                                                                 \n",
            " bidirectional (Bidirectiona  (None, 19, 256)          234496    \n",
            " l)                                                              \n",
            "                                                                 \n",
            " dropout (Dropout)           (None, 19, 256)           0         \n",
            "                                                                 \n",
            " lstm_1 (LSTM)               (None, 128)               197120    \n",
            "                                                                 \n",
            " dense (Dense)               (None, 3981)              513549    \n",
            "                                                                 \n",
            " dense_1 (Dense)             (None, 15924)             63409368  \n",
            "                                                                 \n",
            "=================================================================\n",
            "Total params: 65,946,933\n",
            "Trainable params: 65,946,933\n",
            "Non-trainable params: 0\n",
            "_________________________________________________________________\n",
            "Epoch 1/60\n",
            "4268/4268 [==============================] - 7373s 2s/step - loss: 6.9065 - accuracy: 0.1054\n",
            "Epoch 2/60\n",
            "4268/4268 [==============================] - 7533s 2s/step - loss: 6.2468 - accuracy: 0.1419\n",
            "Epoch 3/60\n",
            "4268/4268 [==============================] - 7661s 2s/step - loss: 5.7799 - accuracy: 0.1645\n",
            "Epoch 4/60\n",
            "4268/4268 [==============================] - 7595s 2s/step - loss: 5.3902 - accuracy: 0.1815\n",
            "Epoch 5/60\n",
            "4268/4268 [==============================] - 7588s 2s/step - loss: 5.0368 - accuracy: 0.1996\n",
            "Epoch 6/60\n",
            "1645/4268 [==========>...................] - ETA: 1:17:03 - loss: 4.6689 - accuracy: 0.2173"
          ]
        }
      ]
    }
  ]
}